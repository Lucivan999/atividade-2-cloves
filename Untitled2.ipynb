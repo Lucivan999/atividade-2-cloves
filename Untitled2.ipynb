{
  "nbformat": 4,
  "nbformat_minor": 0,
  "metadata": {
    "colab": {
      "provenance": [],
      "authorship_tag": "ABX9TyODrjCCJqCkYh5aBdPpxrhp",
      "include_colab_link": true
    },
    "kernelspec": {
      "name": "python3",
      "display_name": "Python 3"
    },
    "language_info": {
      "name": "python"
    }
  },
  "cells": [
    {
      "cell_type": "markdown",
      "metadata": {
        "id": "view-in-github",
        "colab_type": "text"
      },
      "source": [
        "<a href=\"https://colab.research.google.com/github/Lucivan999/atividade-2-cloves/blob/main/Untitled2.ipynb\" target=\"_parent\"><img src=\"https://colab.research.google.com/assets/colab-badge.svg\" alt=\"Open In Colab\"/></a>"
      ]
    },
    {
      "cell_type": "code",
      "execution_count": 1,
      "metadata": {
        "colab": {
          "base_uri": "https://localhost:8080/"
        },
        "id": "bW-57Wym5-fv",
        "outputId": "5e99afea-350a-4297-cb72-6b0f5991c83c"
      },
      "outputs": [
        {
          "output_type": "stream",
          "name": "stdout",
          "text": [
            "6.5\n"
          ]
        }
      ],
      "source": [
        "semestre1 = [10, 9, 8, 7]\n",
        "semestre2 = [6, 5, 4, 3]\n",
        "\n",
        "soma1 = 0\n",
        "for total1 in semestre1:\n",
        "    soma1 += total1\n",
        "    div1 = soma1 / 4\n",
        "\n",
        "soma2 = 0\n",
        "for total2 in semestre2:\n",
        "    soma2 += total2\n",
        "    div2 = soma2 / 4\n",
        "\n",
        "media = ((div1) + (div2)) / 2\n",
        "\n",
        "print(media)"
      ]
    },
    {
      "cell_type": "code",
      "source": [],
      "metadata": {
        "id": "anzx5oBc6LE-"
      },
      "execution_count": null,
      "outputs": []
    }
  ]
}